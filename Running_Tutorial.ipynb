{
  "nbformat": 4,
  "nbformat_minor": 0,
  "metadata": {
    "colab": {
      "name": "Tutorial",
      "provenance": [],
      "collapsed_sections": [],
      "toc_visible": true,
      "machine_shape": "hm",
      "include_colab_link": true
    },
    "kernelspec": {
      "name": "python3",
      "display_name": "Python 3"
    },
    "accelerator": "GPU"
  },
  "cells": [
    {
      "cell_type": "markdown",
      "metadata": {
        "id": "view-in-github",
        "colab_type": "text"
      },
      "source": [
        "<a href=\"https://colab.research.google.com/github/itruonghai/yolov5/blob/master/Running_Tutorial.ipynb\" target=\"_parent\"><img src=\"https://colab.research.google.com/assets/colab-badge.svg\" alt=\"Open In Colab\"/></a>"
      ]
    },
    {
      "cell_type": "markdown",
      "metadata": {
        "id": "HvhYZrIZCEyo"
      },
      "source": [
        "<img src=\"https://user-images.githubusercontent.com/26833433/82952157-51b7db00-9f5d-11ea-8f4b-dda1ffecf992.jpg\">\n",
        "\n",
        "This notebook was written by Ultralytics LLC, and is freely available for redistribution under the [GPL-3.0 license](https://choosealicense.com/licenses/gpl-3.0/). \n",
        "For more information please visit https://github.com/ultralytics/yolov5 and https://www.ultralytics.com."
      ]
    },
    {
      "cell_type": "markdown",
      "metadata": {
        "id": "7mGmQbAO5pQb"
      },
      "source": [
        "# Setup\n",
        "\n",
        "Clone repo, install dependencies, `%cd` into `./yolov5` folder and check GPU."
      ]
    },
    {
      "cell_type": "markdown",
      "metadata": {
        "id": "JeXaRJBL2HmO"
      },
      "source": [
        "# Download Dataset at: https://drive.google.com/file/d/1zqmCOyjKmGbYtLsdJXkm5RdGxEWW-Etj/view?usp=sharing\n"
      ]
    },
    {
      "cell_type": "code",
      "metadata": {
        "id": "JS55SN79PxYj",
        "outputId": "00793e5e-4479-4081-e736-d6fcf02961bf",
        "colab": {
          "base_uri": "https://localhost:8080/"
        }
      },
      "source": [
        "!nvidia-smi "
      ],
      "execution_count": null,
      "outputs": [
        {
          "output_type": "stream",
          "text": [
            "Thu Nov  5 17:15:34 2020       \n",
            "+-----------------------------------------------------------------------------+\n",
            "| NVIDIA-SMI 455.32.00    Driver Version: 418.67       CUDA Version: 10.1     |\n",
            "|-------------------------------+----------------------+----------------------+\n",
            "| GPU  Name        Persistence-M| Bus-Id        Disp.A | Volatile Uncorr. ECC |\n",
            "| Fan  Temp  Perf  Pwr:Usage/Cap|         Memory-Usage | GPU-Util  Compute M. |\n",
            "|                               |                      |               MIG M. |\n",
            "|===============================+======================+======================|\n",
            "|   0  Tesla V100-SXM2...  Off  | 00000000:00:04.0 Off |                    0 |\n",
            "| N/A   35C    P0    25W / 300W |      0MiB / 16130MiB |      0%      Default |\n",
            "|                               |                      |                 ERR! |\n",
            "+-------------------------------+----------------------+----------------------+\n",
            "                                                                               \n",
            "+-----------------------------------------------------------------------------+\n",
            "| Processes:                                                                  |\n",
            "|  GPU   GI   CI        PID   Type   Process name                  GPU Memory |\n",
            "|        ID   ID                                                   Usage      |\n",
            "|=============================================================================|\n",
            "|  No running processes found                                                 |\n",
            "+-----------------------------------------------------------------------------+\n"
          ],
          "name": "stdout"
        }
      ]
    },
    {
      "cell_type": "code",
      "metadata": {
        "id": "wbvMlHd_QwMG",
        "outputId": "af7bacb2-b8b9-4ab0-f2b9-f7e9b75db854",
        "colab": {
          "base_uri": "https://localhost:8080/"
        }
      },
      "source": [
        "!git clone https://github.com/itruonghai/yolov5  # clone repo\n",
        "!pip install wandb\n",
        "!pip install -r yolov5/requirements.txt  # install dependencies (ignore errors)\n",
        "%cd yolov5\n",
        "\n",
        "import torch\n",
        "from IPython.display import Image, clear_output  # to display images\n",
        "from utils.google_utils import gdrive_download  # to download models/datasets\n",
        "\n",
        "clear_output()\n",
        "print('Setup complete. Using torch %s %s' % (torch.__version__, torch.cuda.get_device_properties(0) if torch.cuda.is_available() else 'CPU'))"
      ],
      "execution_count": null,
      "outputs": [
        {
          "output_type": "stream",
          "text": [
            "Setup complete. Using torch 1.7.0+cu101 _CudaDeviceProperties(name='Tesla V100-SXM2-16GB', major=7, minor=0, total_memory=16130MB, multi_processor_count=80)\n"
          ],
          "name": "stdout"
        }
      ]
    },
    {
      "cell_type": "code",
      "metadata": {
        "id": "Oq7Gf_ibFd8U"
      },
      "source": [
        "!mkdir dataset/labels\n",
        "!mkdir dataset/labels/train\n",
        "!mkdir dataset/labels/val\n",
        "!mkdir dataset/labels/test\n",
        "\n"
      ],
      "execution_count": null,
      "outputs": []
    },
    {
      "cell_type": "code",
      "metadata": {
        "id": "hlbZl9rJDuq5"
      },
      "source": [
        "import json\n",
        "import os  \n",
        "def split(mode):\n",
        "    with open('dataset/annotations/{}.json'.format(mode)) as f:\n",
        "        data = json.load(f)\n",
        "    name = os.listdir('dataset/images/{}'.format(mode))\n",
        "    annotations = data['annotations']\n",
        "    for annotation in annotations:\n",
        "        if '{}.png'.format(annotation['image_id']) in name:\n",
        "            with open('dataset/labels/{}/{}.txt'.format(mode,annotation['image_id']), 'a') as f:\n",
        "                x,y,w,h = annotation['bbox']\n",
        "                x_center = (x + w/2) / 1622 \n",
        "                y_center = (y + h/2) / 626 \n",
        "                w = w / 1622\n",
        "                h = h / 626 \n",
        "                f.write('{} {} {} {} {}\\n'.format(annotation['category_id']-1 , x_center, y_center, w, h))\n",
        "for mode in ['train', 'val', 'test']:   \n",
        "    split(mode)\n"
      ],
      "execution_count": null,
      "outputs": []
    },
    {
      "cell_type": "markdown",
      "metadata": {
        "id": "JeXaRJBL2HmO"
      },
      "source": [
        "# Train 300 epochs\n"
      ]
    },
    {
      "cell_type": "code",
      "metadata": {
        "id": "EOVeLdvd0pmf"
      },
      "source": [
        "!python train.py --img-size 1024 --batch 16 --epochs 300 --data coco128.yaml --weights '' --cfg yolov5x.yaml  --cache"
      ],
      "execution_count": null,
      "outputs": []
    }
  ]
}
